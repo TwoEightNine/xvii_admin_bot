{
 "cells": [
  {
   "cell_type": "code",
   "execution_count": 22,
   "metadata": {},
   "outputs": [
    {
     "name": "stdout",
     "output_type": "stream",
     "text": [
      "None\n",
      "[{'id': 1, 'first_name': 'Pavel', 'last_name': 'Dourov', 'is_closed': False, 'can_access_closed': True}]\n"
     ]
    }
   ],
   "source": [
    "import requests\n",
    "import json\n",
    "from secret import access_token, no_fetch_users\n",
    "\n",
    "base_url = 'https://api.vk.com/method/'\n",
    "\n",
    "\n",
    "def execute(method, params):\n",
    "    url = base_url + method + '?'\n",
    "    for k, v in params.items():\n",
    "        url += k + '=' + str(v) + '&'\n",
    "    url += f'access_token={access_token}&v=5.103'\n",
    "    r = requests.get(url).text\n",
    "    response = None\n",
    "    err = None\n",
    "    try:\n",
    "        response = json.loads(r)\n",
    "    except Exception as e:\n",
    "        err = str(e)\n",
    "    try:\n",
    "        if 'response' not in response:\n",
    "            err = response['error']\n",
    "            err = str(err['error_code']) + ': ' + err['error_msg']\n",
    "            response = None\n",
    "        else:\n",
    "            response = response['response']\n",
    "    except Exception as e:\n",
    "        err = f'error while parsing: {e}'\n",
    "    return err, response\n",
    "\n",
    "\n",
    "error, result = execute('users.get', {'user_ids': 1})\n",
    "print(error)\n",
    "print(result)\n"
   ]
  },
  {
   "cell_type": "code",
   "execution_count": 30,
   "metadata": {},
   "outputs": [
    {
     "data": {
      "application/vnd.jupyter.widget-view+json": {
       "model_id": "7dfe4772c94f4221b88c4d27b9875183",
       "version_major": 2,
       "version_minor": 0
      },
      "text/plain": [
       "HBox(children=(FloatProgress(value=0.0, max=4.0), HTML(value='')))"
      ]
     },
     "metadata": {},
     "output_type": "display_data"
    },
    {
     "name": "stdout",
     "output_type": "stream",
     "text": [
      "\n"
     ]
    },
    {
     "data": {
      "text/plain": [
       "799"
      ]
     },
     "execution_count": 30,
     "metadata": {},
     "output_type": "execute_result"
    }
   ],
   "source": [
    "from tqdm.notebook import tqdm\n",
    "\n",
    "user_ids = []\n",
    "for i in tqdm(range(4)):\n",
    "    err, conv = execute('messages.getConversations', {'count': 200, 'offset': i * 200})\n",
    "    if err is None:\n",
    "        conv_list = conv['items']\n",
    "        if len(conv_list) == 0:\n",
    "            break\n",
    "        for con in conv_list:\n",
    "            user_id = con['conversation']['peer']['id']\n",
    "            if user_id not in no_fetch_users:\n",
    "                user_ids.append(user_id)\n",
    "\n",
    "len(user_ids)"
   ]
  },
  {
   "cell_type": "code",
   "execution_count": 31,
   "metadata": {},
   "outputs": [
    {
     "data": {
      "application/vnd.jupyter.widget-view+json": {
       "model_id": "4c49986d6246485ea16de41f45f35cd2",
       "version_major": 2,
       "version_minor": 0
      },
      "text/plain": [
       "HBox(children=(FloatProgress(value=0.0, max=799.0), HTML(value='')))"
      ]
     },
     "metadata": {},
     "output_type": "display_data"
    },
    {
     "name": "stdout",
     "output_type": "stream",
     "text": [
      "\n"
     ]
    }
   ],
   "source": [
    "import time\n",
    "import pickle\n",
    "\n",
    "attach_marker_photo = ' (PH)'\n",
    "attach_marker_video = ' (VD)'\n",
    "\n",
    "def is_text_worth(text):\n",
    "    return len(text) != 0 \\\n",
    "            and 'CRASH REPORT' not in text \\\n",
    "            and 'android.' not in text \\\n",
    "            and '[service]' not in text \\\n",
    "            and 'DEVICE INFORMATION' not in text \\\n",
    "            and 'com.twoeightnine.root.xvii.' not in text \\\n",
    "            and 'okhttp3.internal.' not in text \\\n",
    "            and '[longpoll]' not in text\n",
    "\n",
    "messages = []\n",
    "for user_id in tqdm(user_ids):\n",
    "    err, conv = execute('messages.getHistory', {'count': 200, 'user_id': user_id})\n",
    "    if err is None:\n",
    "        for mess in conv['items']:\n",
    "            if mess['out'] == 0:\n",
    "                text = mess['text']\n",
    "                if is_text_worth(text):\n",
    "                    if len(mess['attachments']) != 0:\n",
    "                        attach = mess['attachments'][0]\n",
    "                        marker = ''\n",
    "                        if attach['type'] == 'photo':\n",
    "                            marker = attach_marker_photo\n",
    "                        elif attach['type'] == 'video':\n",
    "                            marker = attach_marker_video\n",
    "                        text += marker\n",
    "                    messages.append(text)\n",
    "    time.sleep(.33)"
   ]
  },
  {
   "cell_type": "code",
   "execution_count": 32,
   "metadata": {},
   "outputs": [
    {
     "data": {
      "text/plain": [
       "(1634,\n",
       " ['Хай',\n",
       "  'Как сделать свой стиль ?',\n",
       "  'Если скоро не будет , то удалю приложение нафиг',\n",
       "  'Окей',\n",
       "  'Не работает',\n",
       "  'Как сделать *был в сети недавно*',\n",
       "  'Привет',\n",
       "  'Салам',\n",
       "  'Спасибо, помогло)',\n",
       "  'Здравствуйте, не грузится список диалогов (PH)',\n",
       "  'А, спасибо',\n",
       "  'можно как нибудь поменять ник друзей а чате?',\n",
       "  'Спасибо большое',\n",
       "  'А можете объяснить?',\n",
       "  'А что это за сообщество ?',\n",
       "  'Привет',\n",
       "  'Уже прочитал',\n",
       "  ')',\n",
       "  'Здравствуйте, а вы же надеюсь не крадёте мои данные?)))',\n",
       "  'Крутое приложение!'])"
      ]
     },
     "execution_count": 32,
     "metadata": {},
     "output_type": "execute_result"
    }
   ],
   "source": [
    "pickle.dump(messages, open('messages.pkl', 'wb'))\n",
    "\n",
    "messages = pickle.load(open('messages.pkl', 'rb'))\n",
    "len(messages), messages[:20]"
   ]
  },
  {
   "cell_type": "code",
   "execution_count": 33,
   "metadata": {},
   "outputs": [
    {
     "data": {
      "text/html": [
       "<div>\n",
       "<style scoped>\n",
       "    .dataframe tbody tr th:only-of-type {\n",
       "        vertical-align: middle;\n",
       "    }\n",
       "\n",
       "    .dataframe tbody tr th {\n",
       "        vertical-align: top;\n",
       "    }\n",
       "\n",
       "    .dataframe thead th {\n",
       "        text-align: right;\n",
       "    }\n",
       "</style>\n",
       "<table border=\"1\" class=\"dataframe\">\n",
       "  <thead>\n",
       "    <tr style=\"text-align: right;\">\n",
       "      <th></th>\n",
       "      <th>messages</th>\n",
       "      <th>has_photo</th>\n",
       "      <th>has_video</th>\n",
       "    </tr>\n",
       "  </thead>\n",
       "  <tbody>\n",
       "    <tr>\n",
       "      <th>0</th>\n",
       "      <td>Хай</td>\n",
       "      <td>0</td>\n",
       "      <td>0</td>\n",
       "    </tr>\n",
       "    <tr>\n",
       "      <th>1</th>\n",
       "      <td>Как сделать свой стиль ?</td>\n",
       "      <td>0</td>\n",
       "      <td>0</td>\n",
       "    </tr>\n",
       "    <tr>\n",
       "      <th>2</th>\n",
       "      <td>Если скоро не будет , то удалю приложение нафиг</td>\n",
       "      <td>0</td>\n",
       "      <td>0</td>\n",
       "    </tr>\n",
       "    <tr>\n",
       "      <th>3</th>\n",
       "      <td>Окей</td>\n",
       "      <td>0</td>\n",
       "      <td>0</td>\n",
       "    </tr>\n",
       "    <tr>\n",
       "      <th>4</th>\n",
       "      <td>Не работает</td>\n",
       "      <td>0</td>\n",
       "      <td>0</td>\n",
       "    </tr>\n",
       "    <tr>\n",
       "      <th>5</th>\n",
       "      <td>Как сделать *был в сети недавно*</td>\n",
       "      <td>0</td>\n",
       "      <td>0</td>\n",
       "    </tr>\n",
       "    <tr>\n",
       "      <th>6</th>\n",
       "      <td>Привет</td>\n",
       "      <td>0</td>\n",
       "      <td>0</td>\n",
       "    </tr>\n",
       "    <tr>\n",
       "      <th>7</th>\n",
       "      <td>Салам</td>\n",
       "      <td>0</td>\n",
       "      <td>0</td>\n",
       "    </tr>\n",
       "    <tr>\n",
       "      <th>8</th>\n",
       "      <td>Спасибо, помогло)</td>\n",
       "      <td>0</td>\n",
       "      <td>0</td>\n",
       "    </tr>\n",
       "    <tr>\n",
       "      <th>9</th>\n",
       "      <td>Здравствуйте, не грузится список диалогов</td>\n",
       "      <td>1</td>\n",
       "      <td>0</td>\n",
       "    </tr>\n",
       "    <tr>\n",
       "      <th>10</th>\n",
       "      <td>А, спасибо</td>\n",
       "      <td>0</td>\n",
       "      <td>0</td>\n",
       "    </tr>\n",
       "    <tr>\n",
       "      <th>11</th>\n",
       "      <td>можно как нибудь поменять ник друзей а чате?</td>\n",
       "      <td>0</td>\n",
       "      <td>0</td>\n",
       "    </tr>\n",
       "    <tr>\n",
       "      <th>12</th>\n",
       "      <td>Спасибо большое</td>\n",
       "      <td>0</td>\n",
       "      <td>0</td>\n",
       "    </tr>\n",
       "    <tr>\n",
       "      <th>13</th>\n",
       "      <td>А можете объяснить?</td>\n",
       "      <td>0</td>\n",
       "      <td>0</td>\n",
       "    </tr>\n",
       "    <tr>\n",
       "      <th>14</th>\n",
       "      <td>А что это за сообщество ?</td>\n",
       "      <td>0</td>\n",
       "      <td>0</td>\n",
       "    </tr>\n",
       "    <tr>\n",
       "      <th>15</th>\n",
       "      <td>Привет</td>\n",
       "      <td>0</td>\n",
       "      <td>0</td>\n",
       "    </tr>\n",
       "    <tr>\n",
       "      <th>16</th>\n",
       "      <td>Уже прочитал</td>\n",
       "      <td>0</td>\n",
       "      <td>0</td>\n",
       "    </tr>\n",
       "    <tr>\n",
       "      <th>17</th>\n",
       "      <td>)</td>\n",
       "      <td>0</td>\n",
       "      <td>0</td>\n",
       "    </tr>\n",
       "    <tr>\n",
       "      <th>18</th>\n",
       "      <td>Здравствуйте, а вы же надеюсь не крадёте мои д...</td>\n",
       "      <td>0</td>\n",
       "      <td>0</td>\n",
       "    </tr>\n",
       "    <tr>\n",
       "      <th>19</th>\n",
       "      <td>Крутое приложение!</td>\n",
       "      <td>0</td>\n",
       "      <td>0</td>\n",
       "    </tr>\n",
       "  </tbody>\n",
       "</table>\n",
       "</div>"
      ],
      "text/plain": [
       "                                             messages  has_photo  has_video\n",
       "0                                                 Хай          0          0\n",
       "1                            Как сделать свой стиль ?          0          0\n",
       "2     Если скоро не будет , то удалю приложение нафиг          0          0\n",
       "3                                                Окей          0          0\n",
       "4                                         Не работает          0          0\n",
       "5                    Как сделать *был в сети недавно*          0          0\n",
       "6                                              Привет          0          0\n",
       "7                                               Салам          0          0\n",
       "8                                   Спасибо, помогло)          0          0\n",
       "9           Здравствуйте, не грузится список диалогов          1          0\n",
       "10                                         А, спасибо          0          0\n",
       "11       можно как нибудь поменять ник друзей а чате?          0          0\n",
       "12                                    Спасибо большое          0          0\n",
       "13                                А можете объяснить?          0          0\n",
       "14                          А что это за сообщество ?          0          0\n",
       "15                                             Привет          0          0\n",
       "16                                       Уже прочитал          0          0\n",
       "17                                                  )          0          0\n",
       "18  Здравствуйте, а вы же надеюсь не крадёте мои д...          0          0\n",
       "19                                 Крутое приложение!          0          0"
      ]
     },
     "execution_count": 33,
     "metadata": {},
     "output_type": "execute_result"
    }
   ],
   "source": [
    "import pandas as pd\n",
    "\n",
    "clean_messages = []\n",
    "for mess in messages:\n",
    "    if attach_marker_photo in mess or attach_marker_video in mess:\n",
    "        clean_messages.append(mess[:-5])\n",
    "    else:\n",
    "        clean_messages.append(mess)\n",
    "\n",
    "df = pd.DataFrame()\n",
    "df['messages'] = clean_messages\n",
    "df['has_photo'] = [1 if attach_marker_photo in mess else 0 for mess in messages]\n",
    "df['has_video'] = [1 if attach_marker_video in mess else 0 for mess in messages]\n",
    "df.to_csv('messages.csv', index=False)\n",
    "df.head(20)"
   ]
  },
  {
   "cell_type": "code",
   "execution_count": null,
   "metadata": {},
   "outputs": [],
   "source": []
  }
 ],
 "metadata": {
  "kernelspec": {
   "display_name": "Python 3",
   "language": "python",
   "name": "python3"
  },
  "language_info": {
   "codemirror_mode": {
    "name": "ipython",
    "version": 3
   },
   "file_extension": ".py",
   "mimetype": "text/x-python",
   "name": "python",
   "nbconvert_exporter": "python",
   "pygments_lexer": "ipython3",
   "version": "3.6.9"
  }
 },
 "nbformat": 4,
 "nbformat_minor": 2
}
