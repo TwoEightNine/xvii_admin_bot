{
 "cells": [
  {
   "cell_type": "code",
   "execution_count": null,
   "metadata": {},
   "outputs": [
    {
     "ename": "ImportError",
     "evalue": "cannot import name 'access_token'",
     "traceback": [
      "\u001b[0;31m---------------------------------------------------------------------------\u001b[0m",
      "\u001b[0;31mImportError\u001b[0m                               Traceback (most recent call last)",
      "\u001b[0;32m<ipython-input-13-f4369650adac>\u001b[0m in \u001b[0;36m<module>\u001b[0;34m\u001b[0m\n\u001b[1;32m      1\u001b[0m \u001b[0;32mimport\u001b[0m \u001b[0mrequests\u001b[0m\u001b[0;34m\u001b[0m\u001b[0;34m\u001b[0m\u001b[0m\n\u001b[1;32m      2\u001b[0m \u001b[0;32mimport\u001b[0m \u001b[0mjson\u001b[0m\u001b[0;34m\u001b[0m\u001b[0;34m\u001b[0m\u001b[0m\n\u001b[0;32m----> 3\u001b[0;31m \u001b[0;32mfrom\u001b[0m \u001b[0msecrets\u001b[0m \u001b[0;32mimport\u001b[0m \u001b[0maccess_token\u001b[0m\u001b[0;34m\u001b[0m\u001b[0;34m\u001b[0m\u001b[0m\n\u001b[0m\u001b[1;32m      4\u001b[0m \u001b[0;34m\u001b[0m\u001b[0m\n\u001b[1;32m      5\u001b[0m \u001b[0mbase_url\u001b[0m \u001b[0;34m=\u001b[0m \u001b[0;34m'https://api.vk.com/method/'\u001b[0m\u001b[0;34m\u001b[0m\u001b[0;34m\u001b[0m\u001b[0m\n",
      "\u001b[0;31mImportError\u001b[0m: cannot import name 'access_token'"
     ],
     "output_type": "error"
    }
   ],
   "source": [
    "import requests\n",
    "import json\n",
    "from notebooks.secrets import access_token\n",
    "\n",
    "base_url = 'https://api.vk.com/method/'\n",
    "\n",
    "\n",
    "def execute(method, params):\n",
    "    url = base_url + method + '?'\n",
    "    for k, v in params.items():\n",
    "        url += k + '=' + str(v) + '&'\n",
    "    url += 'access_token=' + access_token + '&v=5.103'\n",
    "    r = requests.get(url).text\n",
    "    response = None\n",
    "    err = None\n",
    "    try:\n",
    "        response = json.loads(r)\n",
    "    except Exception as e:\n",
    "        err = str(e)\n",
    "    try:\n",
    "        if 'response' not in response:\n",
    "            err = response['error']\n",
    "            err = str(err['error_code']) + ': ' + err['error_msg']\n",
    "            response = None\n",
    "        else:\n",
    "            response = response['response']\n",
    "    except:\n",
    "        err = 'Error while parsing error'\n",
    "    return err, response\n",
    "\n",
    "\n",
    "error, result = execute('users.get', {'user_ids': 1})\n",
    "print(error)\n",
    "print(result)\n"
   ]
  },
  {
   "cell_type": "code",
   "execution_count": 16,
   "metadata": {},
   "outputs": [
    {
     "ename": "ModuleNotFoundError",
     "evalue": "No module named 'notebooks'",
     "traceback": [
      "\u001b[0;31m---------------------------------------------------------------------------\u001b[0m",
      "\u001b[0;31mModuleNotFoundError\u001b[0m                       Traceback (most recent call last)",
      "\u001b[0;32m<ipython-input-16-1b67689d28d4>\u001b[0m in \u001b[0;36m<module>\u001b[0;34m\u001b[0m\n\u001b[0;32m----> 1\u001b[0;31m \u001b[0;32mimport\u001b[0m \u001b[0mnotebooks\u001b[0m\u001b[0;34m.\u001b[0m\u001b[0msecrets\u001b[0m\u001b[0;34m\u001b[0m\u001b[0;34m\u001b[0m\u001b[0m\n\u001b[0m\u001b[1;32m      2\u001b[0m \u001b[0mnotebooks\u001b[0m\u001b[0;34m.\u001b[0m\u001b[0msecrets\u001b[0m\u001b[0;34m\u001b[0m\u001b[0;34m\u001b[0m\u001b[0m\n",
      "\u001b[0;31mModuleNotFoundError\u001b[0m: No module named 'notebooks'"
     ],
     "output_type": "error"
    }
   ],
   "source": [
    "import notebooks.secrets\n",
    "notebooks.secrets"
   ]
  },
  {
   "cell_type": "code",
   "execution_count": null,
   "metadata": {},
   "outputs": [],
   "source": [
    "\"from tqdm.notebook import tqdm\\n\",\n",
    "    \"\\n\",\n",
    "    \"user_ids = []\\n\",\n",
    "    \"for i in tqdm(range(3)):\\n\",\n",
    "    \"    err, conv = execute('messages.getConversations', {'count': 200, 'offset': i * 200})\\n\",\n",
    "    \"    if err is None:\\n\",\n",
    "    \"        conv_list = conv['items']\\n\",\n",
    "    \"        if len(conv_list) == 0:\\n\",\n",
    "    \"            break\\n\",\n",
    "    \"        for con in conv_list:\\n\",\n",
    "    \"            user_ids.append(con['conversation']['peer']['id'])\\n\",\n",
    "    \"        \\n\",\n",
    "    \"len(user_ids)\""
   ]
  }
 ],
 "metadata": {
  "kernelspec": {
   "display_name": "Python 3",
   "language": "python",
   "name": "python3"
  },
  "language_info": {
   "codemirror_mode": {
    "name": "ipython",
    "version": 3
   },
   "file_extension": ".py",
   "mimetype": "text/x-python",
   "name": "python",
   "nbconvert_exporter": "python",
   "pygments_lexer": "ipython3",
   "version": "3.6.9"
  }
 },
 "nbformat": 4,
 "nbformat_minor": 2
}
